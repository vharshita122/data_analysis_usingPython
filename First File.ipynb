{
 "cells": [
  {
   "cell_type": "code",
   "execution_count": 6,
   "id": "771367f7-25ac-4f96-978f-dedfb48fa283",
   "metadata": {},
   "outputs": [],
   "source": [
    "import numpy as np\n",
    "import pandas as pd\n",
    "import matplotlib.pyplot as plt #visualizing data\n",
    "%matplotlib inline\n",
    "import seaborn as sns"
   ]
  },
  {
   "cell_type": "code",
   "execution_count": 7,
   "id": "775de352-1c77-4c1e-ba19-c2b712825be7",
   "metadata": {},
   "outputs": [],
   "source": [
    "df = pd.read_csv('coursera_course_dataset_v3.csv', encoding = 'unicode_escape')\n",
    "#to avoid encoding error, use 'unicode_escape'"
   ]
  },
  {
   "cell_type": "code",
   "execution_count": 8,
   "id": "8240eaff-c8da-4d48-a1a9-7537755785a2",
   "metadata": {},
   "outputs": [
    {
     "data": {
      "text/plain": [
       "(623, 12)"
      ]
     },
     "execution_count": 8,
     "metadata": {},
     "output_type": "execute_result"
    }
   ],
   "source": [
    "df.shape"
   ]
  },
  {
   "cell_type": "code",
   "execution_count": 9,
   "id": "c2fc791b-581b-4b81-8ee2-2f268f4af409",
   "metadata": {},
   "outputs": [
    {
     "data": {
      "text/html": [
       "<div>\n",
       "<style scoped>\n",
       "    .dataframe tbody tr th:only-of-type {\n",
       "        vertical-align: middle;\n",
       "    }\n",
       "\n",
       "    .dataframe tbody tr th {\n",
       "        vertical-align: top;\n",
       "    }\n",
       "\n",
       "    .dataframe thead th {\n",
       "        text-align: right;\n",
       "    }\n",
       "</style>\n",
       "<table border=\"1\" class=\"dataframe\">\n",
       "  <thead>\n",
       "    <tr style=\"text-align: right;\">\n",
       "      <th></th>\n",
       "      <th>Unnamed: 0</th>\n",
       "      <th>Title</th>\n",
       "      <th>Organization</th>\n",
       "      <th>Skills</th>\n",
       "      <th>Ratings</th>\n",
       "      <th>course_url</th>\n",
       "      <th>course_students_enrolled</th>\n",
       "      <th>course_description</th>\n",
       "      <th>Review Count</th>\n",
       "      <th>Difficulty</th>\n",
       "      <th>Type</th>\n",
       "      <th>Duration</th>\n",
       "    </tr>\n",
       "  </thead>\n",
       "  <tbody>\n",
       "    <tr>\n",
       "      <th>0</th>\n",
       "      <td>0</td>\n",
       "      <td>Google Cybersecurity</td>\n",
       "      <td>Google</td>\n",
       "      <td>Network Security, Python Programming, Linux, ...</td>\n",
       "      <td>4.8</td>\n",
       "      <td>https://www.coursera.org/professional-certific...</td>\n",
       "      <td>700,909</td>\n",
       "      <td>Google Cloud Fundamentals: Core Infrastructure...</td>\n",
       "      <td>20K</td>\n",
       "      <td>Beginner</td>\n",
       "      <td>Professional Certificate</td>\n",
       "      <td>3 - 6 Months</td>\n",
       "    </tr>\n",
       "    <tr>\n",
       "      <th>1</th>\n",
       "      <td>1</td>\n",
       "      <td>Google Data Analytics</td>\n",
       "      <td>Google</td>\n",
       "      <td>Data Analysis, R Programming, SQL, Business C...</td>\n",
       "      <td>4.8</td>\n",
       "      <td>https://www.coursera.org/professional-certific...</td>\n",
       "      <td>229,865</td>\n",
       "      <td>Prepare for a new career in the high-growth fi...</td>\n",
       "      <td>137K</td>\n",
       "      <td>Beginner</td>\n",
       "      <td>Professional Certificate</td>\n",
       "      <td>3 - 6 Months</td>\n",
       "    </tr>\n",
       "    <tr>\n",
       "      <th>2</th>\n",
       "      <td>3</td>\n",
       "      <td>Google Project Management:</td>\n",
       "      <td>Google</td>\n",
       "      <td>Project Management, Strategy and Operations, ...</td>\n",
       "      <td>4.8</td>\n",
       "      <td>https://www.coursera.org/professional-certific...</td>\n",
       "      <td>29,702</td>\n",
       "      <td>Prepare-se para uma nova carreira no campo de ...</td>\n",
       "      <td>100K</td>\n",
       "      <td>Beginner</td>\n",
       "      <td>Professional Certificate</td>\n",
       "      <td>3 - 6 Months</td>\n",
       "    </tr>\n",
       "    <tr>\n",
       "      <th>3</th>\n",
       "      <td>4</td>\n",
       "      <td>IBM Data Science</td>\n",
       "      <td>IBM</td>\n",
       "      <td>Python Programming, Data Science, Machine Lea...</td>\n",
       "      <td>4.6</td>\n",
       "      <td>https://www.coursera.org/professional-certific...</td>\n",
       "      <td>239,622</td>\n",
       "      <td>Prepare for a career in the high-growth field ...</td>\n",
       "      <td>120K</td>\n",
       "      <td>Beginner</td>\n",
       "      <td>Professional Certificate</td>\n",
       "      <td>3 - 6 Months</td>\n",
       "    </tr>\n",
       "    <tr>\n",
       "      <th>4</th>\n",
       "      <td>5</td>\n",
       "      <td>Google Digital Marketing &amp; E-commerce</td>\n",
       "      <td>Google</td>\n",
       "      <td>Digital Marketing, Marketing, Marketing Manag...</td>\n",
       "      <td>4.8</td>\n",
       "      <td>https://www.coursera.org/professional-certific...</td>\n",
       "      <td>384,238</td>\n",
       "      <td>This course is the eighth course in the Google...</td>\n",
       "      <td>23K</td>\n",
       "      <td>Beginner</td>\n",
       "      <td>Professional Certificate</td>\n",
       "      <td>3 - 6 Months</td>\n",
       "    </tr>\n",
       "  </tbody>\n",
       "</table>\n",
       "</div>"
      ],
      "text/plain": [
       "   Unnamed: 0                                  Title Organization  \\\n",
       "0           0                   Google Cybersecurity       Google   \n",
       "1           1                  Google Data Analytics       Google   \n",
       "2           3             Google Project Management:       Google   \n",
       "3           4                       IBM Data Science          IBM   \n",
       "4           5  Google Digital Marketing & E-commerce       Google   \n",
       "\n",
       "                                              Skills  Ratings  \\\n",
       "0   Network Security, Python Programming, Linux, ...      4.8   \n",
       "1   Data Analysis, R Programming, SQL, Business C...      4.8   \n",
       "2   Project Management, Strategy and Operations, ...      4.8   \n",
       "3   Python Programming, Data Science, Machine Lea...      4.6   \n",
       "4   Digital Marketing, Marketing, Marketing Manag...      4.8   \n",
       "\n",
       "                                          course_url course_students_enrolled  \\\n",
       "0  https://www.coursera.org/professional-certific...                  700,909   \n",
       "1  https://www.coursera.org/professional-certific...                  229,865   \n",
       "2  https://www.coursera.org/professional-certific...                   29,702   \n",
       "3  https://www.coursera.org/professional-certific...                  239,622   \n",
       "4  https://www.coursera.org/professional-certific...                  384,238   \n",
       "\n",
       "                                  course_description Review Count Difficulty  \\\n",
       "0  Google Cloud Fundamentals: Core Infrastructure...          20K   Beginner   \n",
       "1  Prepare for a new career in the high-growth fi...         137K   Beginner   \n",
       "2  Prepare-se para uma nova carreira no campo de ...         100K   Beginner   \n",
       "3  Prepare for a career in the high-growth field ...         120K   Beginner   \n",
       "4  This course is the eighth course in the Google...          23K   Beginner   \n",
       "\n",
       "                       Type      Duration  \n",
       "0  Professional Certificate  3 - 6 Months  \n",
       "1  Professional Certificate  3 - 6 Months  \n",
       "2  Professional Certificate  3 - 6 Months  \n",
       "3  Professional Certificate  3 - 6 Months  \n",
       "4  Professional Certificate  3 - 6 Months  "
      ]
     },
     "execution_count": 9,
     "metadata": {},
     "output_type": "execute_result"
    }
   ],
   "source": [
    "df.head()"
   ]
  },
  {
   "cell_type": "code",
   "execution_count": 10,
   "id": "b0a3a3d1-1578-4956-8e49-71f27487ff23",
   "metadata": {},
   "outputs": [
    {
     "name": "stdout",
     "output_type": "stream",
     "text": [
      "<class 'pandas.core.frame.DataFrame'>\n",
      "RangeIndex: 623 entries, 0 to 622\n",
      "Data columns (total 12 columns):\n",
      " #   Column                    Non-Null Count  Dtype  \n",
      "---  ------                    --------------  -----  \n",
      " 0   Unnamed: 0                623 non-null    int64  \n",
      " 1   Title                     623 non-null    object \n",
      " 2   Organization              623 non-null    object \n",
      " 3   Skills                    623 non-null    object \n",
      " 4   Ratings                   623 non-null    float64\n",
      " 5   course_url                403 non-null    object \n",
      " 6   course_students_enrolled  387 non-null    object \n",
      " 7   course_description        402 non-null    object \n",
      " 8   Review Count              623 non-null    object \n",
      " 9   Difficulty                623 non-null    object \n",
      " 10  Type                      623 non-null    object \n",
      " 11  Duration                  623 non-null    object \n",
      "dtypes: float64(1), int64(1), object(10)\n",
      "memory usage: 58.5+ KB\n"
     ]
    }
   ],
   "source": [
    "df.info()"
   ]
  },
  {
   "cell_type": "code",
   "execution_count": 11,
   "id": "a73ed787-2e5a-47cc-a84f-a292f2ed940c",
   "metadata": {},
   "outputs": [
    {
     "data": {
      "text/html": [
       "<div>\n",
       "<style scoped>\n",
       "    .dataframe tbody tr th:only-of-type {\n",
       "        vertical-align: middle;\n",
       "    }\n",
       "\n",
       "    .dataframe tbody tr th {\n",
       "        vertical-align: top;\n",
       "    }\n",
       "\n",
       "    .dataframe thead th {\n",
       "        text-align: right;\n",
       "    }\n",
       "</style>\n",
       "<table border=\"1\" class=\"dataframe\">\n",
       "  <thead>\n",
       "    <tr style=\"text-align: right;\">\n",
       "      <th></th>\n",
       "      <th>Unnamed: 0</th>\n",
       "      <th>Title</th>\n",
       "      <th>Organization</th>\n",
       "      <th>Skills</th>\n",
       "      <th>Ratings</th>\n",
       "      <th>course_url</th>\n",
       "      <th>course_students_enrolled</th>\n",
       "      <th>course_description</th>\n",
       "      <th>Review Count</th>\n",
       "      <th>Difficulty</th>\n",
       "      <th>Type</th>\n",
       "      <th>Duration</th>\n",
       "    </tr>\n",
       "  </thead>\n",
       "  <tbody>\n",
       "    <tr>\n",
       "      <th>0</th>\n",
       "      <td>False</td>\n",
       "      <td>False</td>\n",
       "      <td>False</td>\n",
       "      <td>False</td>\n",
       "      <td>False</td>\n",
       "      <td>False</td>\n",
       "      <td>False</td>\n",
       "      <td>False</td>\n",
       "      <td>False</td>\n",
       "      <td>False</td>\n",
       "      <td>False</td>\n",
       "      <td>False</td>\n",
       "    </tr>\n",
       "    <tr>\n",
       "      <th>1</th>\n",
       "      <td>False</td>\n",
       "      <td>False</td>\n",
       "      <td>False</td>\n",
       "      <td>False</td>\n",
       "      <td>False</td>\n",
       "      <td>False</td>\n",
       "      <td>False</td>\n",
       "      <td>False</td>\n",
       "      <td>False</td>\n",
       "      <td>False</td>\n",
       "      <td>False</td>\n",
       "      <td>False</td>\n",
       "    </tr>\n",
       "    <tr>\n",
       "      <th>2</th>\n",
       "      <td>False</td>\n",
       "      <td>False</td>\n",
       "      <td>False</td>\n",
       "      <td>False</td>\n",
       "      <td>False</td>\n",
       "      <td>False</td>\n",
       "      <td>False</td>\n",
       "      <td>False</td>\n",
       "      <td>False</td>\n",
       "      <td>False</td>\n",
       "      <td>False</td>\n",
       "      <td>False</td>\n",
       "    </tr>\n",
       "    <tr>\n",
       "      <th>3</th>\n",
       "      <td>False</td>\n",
       "      <td>False</td>\n",
       "      <td>False</td>\n",
       "      <td>False</td>\n",
       "      <td>False</td>\n",
       "      <td>False</td>\n",
       "      <td>False</td>\n",
       "      <td>False</td>\n",
       "      <td>False</td>\n",
       "      <td>False</td>\n",
       "      <td>False</td>\n",
       "      <td>False</td>\n",
       "    </tr>\n",
       "    <tr>\n",
       "      <th>4</th>\n",
       "      <td>False</td>\n",
       "      <td>False</td>\n",
       "      <td>False</td>\n",
       "      <td>False</td>\n",
       "      <td>False</td>\n",
       "      <td>False</td>\n",
       "      <td>False</td>\n",
       "      <td>False</td>\n",
       "      <td>False</td>\n",
       "      <td>False</td>\n",
       "      <td>False</td>\n",
       "      <td>False</td>\n",
       "    </tr>\n",
       "    <tr>\n",
       "      <th>...</th>\n",
       "      <td>...</td>\n",
       "      <td>...</td>\n",
       "      <td>...</td>\n",
       "      <td>...</td>\n",
       "      <td>...</td>\n",
       "      <td>...</td>\n",
       "      <td>...</td>\n",
       "      <td>...</td>\n",
       "      <td>...</td>\n",
       "      <td>...</td>\n",
       "      <td>...</td>\n",
       "      <td>...</td>\n",
       "    </tr>\n",
       "    <tr>\n",
       "      <th>618</th>\n",
       "      <td>False</td>\n",
       "      <td>False</td>\n",
       "      <td>False</td>\n",
       "      <td>False</td>\n",
       "      <td>False</td>\n",
       "      <td>True</td>\n",
       "      <td>True</td>\n",
       "      <td>True</td>\n",
       "      <td>False</td>\n",
       "      <td>False</td>\n",
       "      <td>False</td>\n",
       "      <td>False</td>\n",
       "    </tr>\n",
       "    <tr>\n",
       "      <th>619</th>\n",
       "      <td>False</td>\n",
       "      <td>False</td>\n",
       "      <td>False</td>\n",
       "      <td>False</td>\n",
       "      <td>False</td>\n",
       "      <td>True</td>\n",
       "      <td>True</td>\n",
       "      <td>True</td>\n",
       "      <td>False</td>\n",
       "      <td>False</td>\n",
       "      <td>False</td>\n",
       "      <td>False</td>\n",
       "    </tr>\n",
       "    <tr>\n",
       "      <th>620</th>\n",
       "      <td>False</td>\n",
       "      <td>False</td>\n",
       "      <td>False</td>\n",
       "      <td>False</td>\n",
       "      <td>False</td>\n",
       "      <td>True</td>\n",
       "      <td>True</td>\n",
       "      <td>True</td>\n",
       "      <td>False</td>\n",
       "      <td>False</td>\n",
       "      <td>False</td>\n",
       "      <td>False</td>\n",
       "    </tr>\n",
       "    <tr>\n",
       "      <th>621</th>\n",
       "      <td>False</td>\n",
       "      <td>False</td>\n",
       "      <td>False</td>\n",
       "      <td>False</td>\n",
       "      <td>False</td>\n",
       "      <td>True</td>\n",
       "      <td>True</td>\n",
       "      <td>True</td>\n",
       "      <td>False</td>\n",
       "      <td>False</td>\n",
       "      <td>False</td>\n",
       "      <td>False</td>\n",
       "    </tr>\n",
       "    <tr>\n",
       "      <th>622</th>\n",
       "      <td>False</td>\n",
       "      <td>False</td>\n",
       "      <td>False</td>\n",
       "      <td>False</td>\n",
       "      <td>False</td>\n",
       "      <td>True</td>\n",
       "      <td>True</td>\n",
       "      <td>True</td>\n",
       "      <td>False</td>\n",
       "      <td>False</td>\n",
       "      <td>False</td>\n",
       "      <td>False</td>\n",
       "    </tr>\n",
       "  </tbody>\n",
       "</table>\n",
       "<p>623 rows × 12 columns</p>\n",
       "</div>"
      ],
      "text/plain": [
       "     Unnamed: 0  Title  Organization  Skills  Ratings  course_url  \\\n",
       "0         False  False         False   False    False       False   \n",
       "1         False  False         False   False    False       False   \n",
       "2         False  False         False   False    False       False   \n",
       "3         False  False         False   False    False       False   \n",
       "4         False  False         False   False    False       False   \n",
       "..          ...    ...           ...     ...      ...         ...   \n",
       "618       False  False         False   False    False        True   \n",
       "619       False  False         False   False    False        True   \n",
       "620       False  False         False   False    False        True   \n",
       "621       False  False         False   False    False        True   \n",
       "622       False  False         False   False    False        True   \n",
       "\n",
       "     course_students_enrolled  course_description  Review Count  Difficulty  \\\n",
       "0                       False               False         False       False   \n",
       "1                       False               False         False       False   \n",
       "2                       False               False         False       False   \n",
       "3                       False               False         False       False   \n",
       "4                       False               False         False       False   \n",
       "..                        ...                 ...           ...         ...   \n",
       "618                      True                True         False       False   \n",
       "619                      True                True         False       False   \n",
       "620                      True                True         False       False   \n",
       "621                      True                True         False       False   \n",
       "622                      True                True         False       False   \n",
       "\n",
       "      Type  Duration  \n",
       "0    False     False  \n",
       "1    False     False  \n",
       "2    False     False  \n",
       "3    False     False  \n",
       "4    False     False  \n",
       "..     ...       ...  \n",
       "618  False     False  \n",
       "619  False     False  \n",
       "620  False     False  \n",
       "621  False     False  \n",
       "622  False     False  \n",
       "\n",
       "[623 rows x 12 columns]"
      ]
     },
     "execution_count": 11,
     "metadata": {},
     "output_type": "execute_result"
    }
   ],
   "source": [
    "pd.isnull(df)"
   ]
  },
  {
   "cell_type": "code",
   "execution_count": 12,
   "id": "1d6a177d-10ff-4559-a182-546a2a473a5d",
   "metadata": {},
   "outputs": [
    {
     "data": {
      "text/plain": [
       "Unnamed: 0                    0\n",
       "Title                         0\n",
       "Organization                  0\n",
       "Skills                        0\n",
       "Ratings                       0\n",
       "course_url                  220\n",
       "course_students_enrolled    236\n",
       "course_description          221\n",
       "Review Count                  0\n",
       "Difficulty                    0\n",
       "Type                          0\n",
       "Duration                      0\n",
       "dtype: int64"
      ]
     },
     "execution_count": 12,
     "metadata": {},
     "output_type": "execute_result"
    }
   ],
   "source": [
    "#check for the null values\n",
    "pd.isnull(df).sum()"
   ]
  },
  {
   "cell_type": "code",
   "execution_count": 14,
   "id": "aca27e66-758d-4f2f-a301-3c398520ea11",
   "metadata": {},
   "outputs": [
    {
     "data": {
      "text/plain": [
       "(623, 12)"
      ]
     },
     "execution_count": 14,
     "metadata": {},
     "output_type": "execute_result"
    }
   ],
   "source": [
    "df.shape"
   ]
  },
  {
   "cell_type": "code",
   "execution_count": 18,
   "id": "a70f3f87-fd20-471f-a98e-1baca462f4c7",
   "metadata": {},
   "outputs": [],
   "source": [
    "#drop the null values\n",
    "df.dropna(inplace=True) #inplace to save the change "
   ]
  },
  {
   "cell_type": "code",
   "execution_count": 19,
   "id": "5c95bd68-a6c8-49f2-bd86-749c4325f312",
   "metadata": {},
   "outputs": [
    {
     "data": {
      "text/plain": [
       "(386, 12)"
      ]
     },
     "execution_count": 19,
     "metadata": {},
     "output_type": "execute_result"
    }
   ],
   "source": [
    "df.shape"
   ]
  },
  {
   "cell_type": "code",
   "execution_count": 20,
   "id": "a6f0e5c5-2a2a-4efc-9c9f-d7480e1cf0a6",
   "metadata": {},
   "outputs": [
    {
     "data": {
      "text/plain": [
       "Unnamed: 0                  0\n",
       "Title                       0\n",
       "Organization                0\n",
       "Skills                      0\n",
       "Ratings                     0\n",
       "course_url                  0\n",
       "course_students_enrolled    0\n",
       "course_description          0\n",
       "Review Count                0\n",
       "Difficulty                  0\n",
       "Type                        0\n",
       "Duration                    0\n",
       "dtype: int64"
      ]
     },
     "execution_count": 20,
     "metadata": {},
     "output_type": "execute_result"
    }
   ],
   "source": [
    "#again check null values\n",
    "pd.isnull(df).sum()"
   ]
  },
  {
   "cell_type": "code",
   "execution_count": 21,
   "id": "c98d8f52-bf1b-41fd-952a-242b2a21d982",
   "metadata": {},
   "outputs": [],
   "source": [
    "#to change data type\n",
    "df['Ratings'] = df['Ratings'].astype('int')"
   ]
  },
  {
   "cell_type": "code",
   "execution_count": 23,
   "id": "125776d7-eea1-4e4e-9f5e-e6dfa00dc513",
   "metadata": {},
   "outputs": [
    {
     "data": {
      "text/plain": [
       "dtype('int64')"
      ]
     },
     "execution_count": 23,
     "metadata": {},
     "output_type": "execute_result"
    }
   ],
   "source": [
    "df['Ratings'].dtypes"
   ]
  },
  {
   "cell_type": "code",
   "execution_count": 24,
   "id": "d1eed2c5-9cd2-4032-b806-0a1f3c37832f",
   "metadata": {},
   "outputs": [
    {
     "data": {
      "text/plain": [
       "Index(['Unnamed: 0', 'Title', 'Organization', 'Skills', 'Ratings',\n",
       "       'course_url', 'course_students_enrolled', 'course_description',\n",
       "       'Review Count', 'Difficulty', 'Type', 'Duration'],\n",
       "      dtype='object')"
      ]
     },
     "execution_count": 24,
     "metadata": {},
     "output_type": "execute_result"
    }
   ],
   "source": [
    "df.columns"
   ]
  },
  {
   "cell_type": "code",
   "execution_count": 31,
   "id": "f422dbfc-a8bf-44e5-937b-0bd20e279902",
   "metadata": {},
   "outputs": [
    {
     "data": {
      "text/html": [
       "<div>\n",
       "<style scoped>\n",
       "    .dataframe tbody tr th:only-of-type {\n",
       "        vertical-align: middle;\n",
       "    }\n",
       "\n",
       "    .dataframe tbody tr th {\n",
       "        vertical-align: top;\n",
       "    }\n",
       "\n",
       "    .dataframe thead th {\n",
       "        text-align: right;\n",
       "    }\n",
       "</style>\n",
       "<table border=\"1\" class=\"dataframe\">\n",
       "  <thead>\n",
       "    <tr style=\"text-align: right;\">\n",
       "      <th></th>\n",
       "      <th>Ratings</th>\n",
       "    </tr>\n",
       "  </thead>\n",
       "  <tbody>\n",
       "    <tr>\n",
       "      <th>count</th>\n",
       "      <td>386.000000</td>\n",
       "    </tr>\n",
       "    <tr>\n",
       "      <th>mean</th>\n",
       "      <td>3.992228</td>\n",
       "    </tr>\n",
       "    <tr>\n",
       "      <th>std</th>\n",
       "      <td>0.113695</td>\n",
       "    </tr>\n",
       "    <tr>\n",
       "      <th>min</th>\n",
       "      <td>2.000000</td>\n",
       "    </tr>\n",
       "    <tr>\n",
       "      <th>25%</th>\n",
       "      <td>4.000000</td>\n",
       "    </tr>\n",
       "    <tr>\n",
       "      <th>50%</th>\n",
       "      <td>4.000000</td>\n",
       "    </tr>\n",
       "    <tr>\n",
       "      <th>75%</th>\n",
       "      <td>4.000000</td>\n",
       "    </tr>\n",
       "    <tr>\n",
       "      <th>max</th>\n",
       "      <td>4.000000</td>\n",
       "    </tr>\n",
       "  </tbody>\n",
       "</table>\n",
       "</div>"
      ],
      "text/plain": [
       "          Ratings\n",
       "count  386.000000\n",
       "mean     3.992228\n",
       "std      0.113695\n",
       "min      2.000000\n",
       "25%      4.000000\n",
       "50%      4.000000\n",
       "75%      4.000000\n",
       "max      4.000000"
      ]
     },
     "execution_count": 31,
     "metadata": {},
     "output_type": "execute_result"
    }
   ],
   "source": [
    "#use to describe specific columns\n",
    "df[['Ratings']].describe()\n",
    "\n"
   ]
  },
  {
   "cell_type": "code",
   "execution_count": 32,
   "id": "8e1ce16f-5306-4996-bcd1-25c6fe1ed40c",
   "metadata": {},
   "outputs": [
    {
     "data": {
      "text/html": [
       "<div>\n",
       "<style scoped>\n",
       "    .dataframe tbody tr th:only-of-type {\n",
       "        vertical-align: middle;\n",
       "    }\n",
       "\n",
       "    .dataframe tbody tr th {\n",
       "        vertical-align: top;\n",
       "    }\n",
       "\n",
       "    .dataframe thead th {\n",
       "        text-align: right;\n",
       "    }\n",
       "</style>\n",
       "<table border=\"1\" class=\"dataframe\">\n",
       "  <thead>\n",
       "    <tr style=\"text-align: right;\">\n",
       "      <th></th>\n",
       "      <th>course_students_enrolled</th>\n",
       "    </tr>\n",
       "  </thead>\n",
       "  <tbody>\n",
       "    <tr>\n",
       "      <th>count</th>\n",
       "      <td>386</td>\n",
       "    </tr>\n",
       "    <tr>\n",
       "      <th>unique</th>\n",
       "      <td>385</td>\n",
       "    </tr>\n",
       "    <tr>\n",
       "      <th>top</th>\n",
       "      <td>56,242</td>\n",
       "    </tr>\n",
       "    <tr>\n",
       "      <th>freq</th>\n",
       "      <td>2</td>\n",
       "    </tr>\n",
       "  </tbody>\n",
       "</table>\n",
       "</div>"
      ],
      "text/plain": [
       "       course_students_enrolled\n",
       "count                       386\n",
       "unique                      385\n",
       "top                      56,242\n",
       "freq                          2"
      ]
     },
     "execution_count": 32,
     "metadata": {},
     "output_type": "execute_result"
    }
   ],
   "source": [
    "df[['course_students_enrolled']].describe()"
   ]
  },
  {
   "cell_type": "code",
   "execution_count": 33,
   "id": "d9f932d8-26a0-4ef5-a223-1b96566dd98f",
   "metadata": {},
   "outputs": [
    {
     "data": {
      "text/html": [
       "<div>\n",
       "<style scoped>\n",
       "    .dataframe tbody tr th:only-of-type {\n",
       "        vertical-align: middle;\n",
       "    }\n",
       "\n",
       "    .dataframe tbody tr th {\n",
       "        vertical-align: top;\n",
       "    }\n",
       "\n",
       "    .dataframe thead th {\n",
       "        text-align: right;\n",
       "    }\n",
       "</style>\n",
       "<table border=\"1\" class=\"dataframe\">\n",
       "  <thead>\n",
       "    <tr style=\"text-align: right;\">\n",
       "      <th></th>\n",
       "      <th>Review Count</th>\n",
       "    </tr>\n",
       "  </thead>\n",
       "  <tbody>\n",
       "    <tr>\n",
       "      <th>count</th>\n",
       "      <td>386</td>\n",
       "    </tr>\n",
       "    <tr>\n",
       "      <th>unique</th>\n",
       "      <td>220</td>\n",
       "    </tr>\n",
       "    <tr>\n",
       "      <th>top</th>\n",
       "      <td>1.4K</td>\n",
       "    </tr>\n",
       "    <tr>\n",
       "      <th>freq</th>\n",
       "      <td>9</td>\n",
       "    </tr>\n",
       "  </tbody>\n",
       "</table>\n",
       "</div>"
      ],
      "text/plain": [
       "       Review Count\n",
       "count           386\n",
       "unique          220\n",
       "top            1.4K\n",
       "freq              9"
      ]
     },
     "execution_count": 33,
     "metadata": {},
     "output_type": "execute_result"
    }
   ],
   "source": [
    "df[['Review Count']].describe()"
   ]
  },
  {
   "cell_type": "code",
   "execution_count": 34,
   "id": "90139224-cfe9-4014-b20a-7d019808dbd7",
   "metadata": {},
   "outputs": [
    {
     "data": {
      "text/html": [
       "<div>\n",
       "<style scoped>\n",
       "    .dataframe tbody tr th:only-of-type {\n",
       "        vertical-align: middle;\n",
       "    }\n",
       "\n",
       "    .dataframe tbody tr th {\n",
       "        vertical-align: top;\n",
       "    }\n",
       "\n",
       "    .dataframe thead th {\n",
       "        text-align: right;\n",
       "    }\n",
       "</style>\n",
       "<table border=\"1\" class=\"dataframe\">\n",
       "  <thead>\n",
       "    <tr style=\"text-align: right;\">\n",
       "      <th></th>\n",
       "      <th>Duration</th>\n",
       "    </tr>\n",
       "  </thead>\n",
       "  <tbody>\n",
       "    <tr>\n",
       "      <th>count</th>\n",
       "      <td>386</td>\n",
       "    </tr>\n",
       "    <tr>\n",
       "      <th>unique</th>\n",
       "      <td>3</td>\n",
       "    </tr>\n",
       "    <tr>\n",
       "      <th>top</th>\n",
       "      <td>3 - 6 Months</td>\n",
       "    </tr>\n",
       "    <tr>\n",
       "      <th>freq</th>\n",
       "      <td>223</td>\n",
       "    </tr>\n",
       "  </tbody>\n",
       "</table>\n",
       "</div>"
      ],
      "text/plain": [
       "            Duration\n",
       "count            386\n",
       "unique             3\n",
       "top     3 - 6 Months\n",
       "freq             223"
      ]
     },
     "execution_count": 34,
     "metadata": {},
     "output_type": "execute_result"
    }
   ],
   "source": [
    "df[['Duration']].describe()"
   ]
  },
  {
   "cell_type": "code",
   "execution_count": 35,
   "id": "3720e2de-4547-428f-8b42-b27c557d5f10",
   "metadata": {},
   "outputs": [],
   "source": [
    "#EXPLORATORY DATA ANALYSIS"
   ]
  },
  {
   "cell_type": "code",
   "execution_count": 36,
   "id": "07babdeb-85e8-435a-9b81-3c7bda8390bd",
   "metadata": {},
   "outputs": [
    {
     "name": "stderr",
     "output_type": "stream",
     "text": [
      "C:\\Users\\HARSHITA\\AppData\\Local\\Temp\\ipykernel_12096\\302705363.py:3: FutureWarning: \n",
      "\n",
      "Passing `palette` without assigning `hue` is deprecated and will be removed in v0.14.0. Assign the `y` variable to `hue` and set `legend=False` for the same effect.\n",
      "\n",
      "  sns.barplot(x=top_orgs.values, y=top_orgs.index, palette='mako')\n"
     ]
    },
    {
     "data": {
      "image/png": "[encoded data removed]",
      "text/plain": [
       "<Figure size 1000x500 with 1 Axes>"
      ]
     },
     "metadata": {},
     "output_type": "display_data"
    }
   ],
   "source": [
    "plt.figure(figsize=(10,5))\n",
    "top_orgs = df['Organization'].value_counts().head(10)\n",
    "sns.barplot(x=top_orgs.values, y=top_orgs.index, palette='mako')\n",
    "plt.xlabel('Number of Courses')\n",
    "plt.ylabel('Organization')\n",
    "plt.title('Top 10 Organizations Offering Most Courses')\n",
    "plt.show()\n"
   ]
  },
  {
   "cell_type": "code",
   "execution_count": 53,
   "id": "fc8680bc-93f8-4b5c-97c0-456c5923dea8",
   "metadata": {},
   "outputs": [
    {
     "data": {
      "image/png": "[encoded data removed]",
      "text/plain": [
       "<Figure size 800x500 with 1 Axes>"
      ]
     },
     "metadata": {},
     "output_type": "display_data"
    }
   ],
   "source": [
    "plt.figure(figsize=(8,5))\n",
    "sns.histplot(df['Duration'].dropna(), bins=20, kde=True, color='purple')\n",
    "plt.title('Distribution of Course Duration')\n",
    "plt.xlabel('Duration (hours)')\n",
    "plt.ylabel('Frequency')\n",
    "plt.show()\n",
    "#This helps analyze how long most courses are."
   ]
  },
  {
   "cell_type": "code",
   "execution_count": 39,
   "id": "b9428b6c-d8ee-456f-99d3-843a830df2be",
   "metadata": {},
   "outputs": [
    {
     "name": "stderr",
     "output_type": "stream",
     "text": [
      "C:\\Users\\HARSHITA\\AppData\\Local\\Temp\\ipykernel_12096\\109441836.py:2: UserWarning: Ignoring `palette` because no `hue` variable has been assigned.\n",
      "  sns.lineplot(data=df, x='Difficulty', y='Ratings', palette='Set2')\n"
     ]
    },
    {
     "data": {
      "image/png": "[encoded data removed]",
      "text/plain": [
       "<Figure size 800x500 with 1 Axes>"
      ]
     },
     "metadata": {},
     "output_type": "display_data"
    }
   ],
   "source": [
    "plt.figure(figsize=(8,5))\n",
    "sns.lineplot(data=df, x='Difficulty', y='Ratings', palette='Set2')\n",
    "plt.title('Ratings Distribution by Difficulty Level')\n",
    "plt.show()\n"
   ]
  },
  {
   "cell_type": "code",
   "execution_count": 40,
   "id": "82ef8c35-6fe8-438b-843e-6dd9d91f5ffa",
   "metadata": {},
   "outputs": [],
   "source": [
    "#This helps identify if certain difficulty levels receive higher/lower ratings."
   ]
  },
  {
   "cell_type": "code",
   "execution_count": 54,
   "id": "3f3ca26e-14fe-41ca-96f7-2799efa1cb63",
   "metadata": {},
   "outputs": [
    {
     "name": "stderr",
     "output_type": "stream",
     "text": [
      "C:\\Users\\HARSHITA\\AppData\\Local\\Temp\\ipykernel_12096\\1052264770.py:3: FutureWarning: \n",
      "\n",
      "Passing `palette` without assigning `hue` is deprecated and will be removed in v0.14.0. Assign the `x` variable to `hue` and set `legend=False` for the same effect.\n",
      "\n",
      "  sns.countplot(data=df, x='Type', palette='pastel')\n"
     ]
    },
    {
     "data": {
      "image/png": "[encoded data removed]",
      "text/plain": [
       "<Figure size 600x400 with 1 Axes>"
      ]
     },
     "metadata": {},
     "output_type": "display_data"
    }
   ],
   "source": [
    "#Number of Courses by Type (Free, Specialization, Certification, etc.)\n",
    "plt.figure(figsize=(6,4))\n",
    "sns.countplot(data=df, x='Type', palette='pastel')\n",
    "plt.title('Number of Courses by Type')\n",
    "plt.xticks(rotation=30)\n",
    "plt.show()"
   ]
  },
  {
   "cell_type": "code",
   "execution_count": 70,
   "id": "1b57a1a5-f7ba-48a7-932e-bbff44e407bf",
   "metadata": {},
   "outputs": [
    {
     "name": "stderr",
     "output_type": "stream",
     "text": [
      "C:\\Users\\HARSHITA\\AppData\\Local\\Programs\\Python\\Python312\\Lib\\site-packages\\seaborn\\matrix.py:202: RuntimeWarning: All-NaN slice encountered\n",
      "  vmin = np.nanmin(calc_data)\n",
      "C:\\Users\\HARSHITA\\AppData\\Local\\Programs\\Python\\Python312\\Lib\\site-packages\\seaborn\\matrix.py:207: RuntimeWarning: All-NaN slice encountered\n",
      "  vmax = np.nanmax(calc_data)\n"
     ]
    },
    {
     "data": {
      "image/png": "[encoded data removed]",
      "text/plain": [
       "<Figure size 800x600 with 2 Axes>"
      ]
     },
     "metadata": {},
     "output_type": "display_data"
    }
   ],
   "source": [
    "# Ensure numeric conversion\n",
    "df['Ratings'] = pd.to_numeric(df['Ratings'], errors='coerce')\n",
    "df['course_students_enrolled'] = df['course_students_enrolled'].astype(str).str.replace(',', '').astype(float)\n",
    "df['Review Count'] = df['Review Count'].astype(str).str.replace('K', '000').astype(float)\n",
    "\n",
    "# Drop NaN values (optional)\n",
    "df.dropna(subset=['Ratings', 'course_students_enrolled', 'Review Count'], inplace=True)\n",
    "\n",
    "# Set figure size\n",
    "plt.figure(figsize=(8,6))  \n",
    "\n",
    "# Create heatmap\n",
    "sns.heatmap(df[['Ratings', 'course_students_enrolled', 'Review Count']].corr(), \n",
    "            annot=True, fmt=\".2f\", cmap='coolwarm', linewidths=2, linecolor='black', square=True)\n",
    "\n",
    "# Add title\n",
    "plt.title('Correlation Between Ratings, Enrollment & Reviews', fontsize=14, fontweight='bold')\n",
    "\n",
    "plt.show()\n"
   ]
  },
  {
   "cell_type": "code",
   "execution_count": 71,
   "id": "bd0a40e8-89dd-4135-9fa5-ca1d5a9549a9",
   "metadata": {},
   "outputs": [],
   "source": [
    "# What This Graph Shows:\n",
    "#Correlation Values Range from -1 to 1:\n",
    "\n",
    "#1 (Strong Positive Correlation): If one value increases, the other also increases.\n",
    "#0 (No Correlation): No relationship between variables.\n",
    "#-1 (Strong Negative Correlation): If one value increases, the other decreases.\n",
    "#Relationship Between Ratings, course_students_enrolled, and Review Count:\n",
    "\n",
    "#If the correlation is high (closer to 1): More students enrolled may lead to better ratings or more reviews.\n",
    "#If the correlation is low (closer to 0): The variables have no strong relationship.\n",
    "#Interpreting Specific Correlations:\n",
    "\n",
    "#course_students_enrolled vs. Review Count (High Positive Correlation)\n",
    "# If many students enroll in a course, it tends to have more reviews.\n",
    "#Ratings vs. course_students_enrolled (Low or No Correlation)\n",
    "# A course's rating doesn’t always depend on enrollment numbers—even highly rated courses might have fewer students.\n",
    "#Ratings vs. Review Count (Moderate Correlation)\n",
    "# Courses with more reviews tend to have slightly better ratings, but not always.\n",
    "#Color Interpretation:\n",
    "\n",
    "#Red Areas: Strong positive correlation (e.g., high enrollment → high reviews).\n",
    "#Blue Areas: Negative correlation (if any).\n",
    "#Light Colors: Weak or no correlation"
   ]
  },
  {
   "cell_type": "code",
   "execution_count": null,
   "id": "412eb17b-f3b6-4b81-9abb-83ca7bcb2145",
   "metadata": {},
   "outputs": [],
   "source": []
  }
 ],
 "metadata": {
  "kernelspec": {
   "display_name": "Python 3 (ipykernel)",
   "language": "python",
   "name": "python3"
  },
  "language_info": {
   "codemirror_mode": {
    "name": "ipython",
    "version": 3
   },
   "file_extension": ".py",
   "mimetype": "text/x-python",
   "name": "python",
   "nbconvert_exporter": "python",
   "pygments_lexer": "ipython3",
   "version": "3.12.3"
  }
 },
 "nbformat": 4,
 "nbformat_minor": 5
}
